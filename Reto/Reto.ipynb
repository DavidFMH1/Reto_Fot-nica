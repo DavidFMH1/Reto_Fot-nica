{
 "cells": [
  {
   "cell_type": "code",
   "execution_count": 1,
   "id": "d6b57a5f",
   "metadata": {},
   "outputs": [],
   "source": [
    "%matplotlib qt\n",
    "\n",
    "import h5py\n",
    "import numpy as np\n",
    "import matplotlib.pyplot as plt\n",
    "import pandas as pd\n",
    "import random\n",
    "\n",
    "from matplotlib.widgets import Slider\n",
    "from mpl_toolkits.mplot3d import Axes3D\n",
    "from scipy.interpolate import interp1d\n",
    "from scipy.interpolate import KroghInterpolator"
   ]
  },
  {
   "cell_type": "code",
   "execution_count": null,
   "id": "63d8e05c",
   "metadata": {},
   "outputs": [],
   "source": [
    "LABELS = [\"Alt_Si3N4\", \"Anc_Si3N4\", \"lambda\", \"n_eff\", \"A_eff\"]\n",
    "\n",
    "def load_and_normalize(fname):\n",
    "    with h5py.File(fname, \"r\") as f:\n",
    "        A = f[\"/A\"][...]\n",
    "    axis5 = next((ax for ax, s in enumerate(A.shape) if s == 5), None)\n",
    "    if axis5 is None:\n",
    "        raise ValueError(f\"No encontré eje de tamaño 5 en {fname}\")\n",
    "    if axis5 != A.ndim - 1:\n",
    "        A = np.moveaxis(A, axis5, -1)\n",
    "    return A"
   ]
  },
  {
   "cell_type": "code",
   "execution_count": 3,
   "id": "ab4c47d3",
   "metadata": {},
   "outputs": [
    {
     "name": "stdout",
     "output_type": "stream",
     "text": [
      "Check Alt: 0.4 vs 0.55, Check Anc: 0.875 vs 0.875\n",
      "Check Alt: 0.55 vs 0.7, Check Anc: 1.25 vs 1.25\n",
      "Check Alt: 0.7 vs 0.85, Check Anc: 1.625 vs 1.625\n",
      "Check Alt: 0.85 vs 0.925, Check Anc: 2.0 vs 1.625\n",
      "⚠️ Advertencia: los bordes no coinciden perfectamente\n"
     ]
    }
   ],
   "source": [
    "archivos = [\n",
    "    \"Datos_reto/Datos1.h5\",\n",
    "    \"Datos_reto/Datos2.h5\",\n",
    "    \"Datos_reto/Datos3.h5\",\n",
    "    \"Datos_reto/Datos4.h5\",\n",
    "    \"Datos_reto/Datos5.h5\"\n",
    "]\n",
    "datasets = [load_and_normalize(fname) for fname in archivos]\n",
    "\n",
    "def check_borders(d1, d2):\n",
    "    alt1_end = np.round(d1[-1,0,0,0],6)\n",
    "    alt2_start = np.round(d2[0,0,0,0],6)\n",
    "    anc1_end = np.round(d1[0,-1,0,1],6)\n",
    "    anc2_start = np.round(d2[0,0,0,1],6)\n",
    "    print(f\"Check Alt: {alt1_end} vs {alt2_start}, Check Anc: {anc1_end} vs {anc2_start}\")\n",
    "    if not np.isclose(alt1_end, alt2_start) and not np.isclose(anc1_end, anc2_start):\n",
    "        print(\"⚠️ Advertencia: los bordes no coinciden perfectamente\")\n",
    "\n",
    "for i in range(len(datasets)-1):\n",
    "    check_borders(datasets[i], datasets[i+1])\n",
    "\n",
    "DatosU = np.block([\n",
    "    [datasets[0]],\n",
    "    [datasets[1]],\n",
    "    [datasets[2]],\n",
    "    [datasets[3]],\n",
    "    [datasets[4]]\n",
    "])"
   ]
  },
  {
   "cell_type": "code",
   "execution_count": 4,
   "id": "1d6f8fbf",
   "metadata": {},
   "outputs": [
    {
     "name": "stdout",
     "output_type": "stream",
     "text": [
      "✅ Dataset unificado guardado en DatosU.h5, shape: (50, 10, 40, 5)\n"
     ]
    }
   ],
   "source": [
    "with h5py.File(\"Datos_reto/DatosU.h5\", \"w\") as f_out:\n",
    "    f_out.create_dataset(\"A\", data=DatosU)\n",
    "\n",
    "print(\"✅ Dataset unificado guardado en DatosU.h5, shape:\", DatosU.shape)"
   ]
  },
  {
   "cell_type": "code",
   "execution_count": 5,
   "id": "f74d625a",
   "metadata": {},
   "outputs": [
    {
     "name": "stdout",
     "output_type": "stream",
     "text": [
      "        i   j   k  Alt_Si3N4  Anc_Si3N4  lambda     n_eff         A_eff  \\\n",
      "0       1   1   1   0.400000        0.5    0.72  1.801107  1.766958e-13   \n",
      "1       1   1   2   0.416667        0.5    0.72  1.807751  1.808637e-13   \n",
      "2       1   1   3   0.433333        0.5    0.72  1.813994  1.852233e-13   \n",
      "3       1   1   4   0.450000        0.5    0.72  1.819495  1.894631e-13   \n",
      "4       1   1   5   0.466667        0.5    0.72  1.826820  1.984774e-13   \n",
      "...    ..  ..  ..        ...        ...     ...       ...           ...   \n",
      "19995  50  10  36   0.925000        2.0    0.89  1.966443  1.032798e-12   \n",
      "19996  50  10  37   0.943750        2.0    0.89  1.967794  1.049798e-12   \n",
      "19997  50  10  38   0.962500        2.0    0.89  1.969078  1.066814e-12   \n",
      "19998  50  10  39   0.981250        2.0    0.89  1.970300  1.083843e-12   \n",
      "19999  50  10  40   1.000000        2.0    0.89  1.971440  1.100531e-12   \n",
      "\n",
      "       lambda_nm  \n",
      "0          720.0  \n",
      "1          720.0  \n",
      "2          720.0  \n",
      "3          720.0  \n",
      "4          720.0  \n",
      "...          ...  \n",
      "19995      890.0  \n",
      "19996      890.0  \n",
      "19997      890.0  \n",
      "19998      890.0  \n",
      "19999      890.0  \n",
      "\n",
      "[20000 rows x 9 columns]\n"
     ]
    }
   ],
   "source": [
    "def to_dataframe(arr):\n",
    "    nA, nB, nC, _ = arr.shape\n",
    "    rows = []\n",
    "    for ii in range(nA):\n",
    "        for jj in range(nB):\n",
    "            for kk in range(nC):\n",
    "                rec = {\"i\": ii+1, \"j\": jj+1, \"k\": kk+1}\n",
    "                for p, name in enumerate(LABELS):\n",
    "                    rec[name] = arr[ii, jj, kk, p]\n",
    "                rows.append(rec)\n",
    "    return pd.DataFrame(rows, columns=[\"i\",\"j\",\"k\"]+LABELS)\n",
    "\n",
    "df = to_dataframe(DatosU)\n",
    "df[\"lambda_nm\"] = df[\"lambda\"] * 1000 \n",
    "print(df)"
   ]
  },
  {
   "cell_type": "code",
   "execution_count": 6,
   "id": "8d7e8190",
   "metadata": {},
   "outputs": [],
   "source": [
    "fig1 = plt.figure(figsize=(10,8))\n",
    "ax1 = fig1.add_subplot(111, projection='3d')\n",
    "p1 = ax1.scatter(df[\"Alt_Si3N4\"], df[\"Anc_Si3N4\"], df[\"lambda\"],\n",
    "                 c=df[\"n_eff\"], cmap=\"viridis\", s=10)\n",
    "ax1.set_xlabel(\"Altura (µm)\")\n",
    "ax1.set_ylabel(\"Ancho (µm)\")\n",
    "ax1.set_zlabel(\"Lambda (µm)\")\n",
    "fig1.colorbar(p1, ax=ax1, label=\"n_eff\")\n",
    "ax1.set_title(\"n_eff\")\n",
    "\n",
    "fig2 = plt.figure(figsize=(10,8))\n",
    "ax2 = fig2.add_subplot(111, projection='3d')\n",
    "p2 = ax2.scatter(df[\"Alt_Si3N4\"], df[\"Anc_Si3N4\"], df[\"lambda\"],\n",
    "                 c=df[\"A_eff\"], cmap=\"plasma\", s=10)\n",
    "ax2.set_xlabel(\"Altura (µm)\")\n",
    "ax2.set_ylabel(\"Ancho (µm)\")\n",
    "ax2.set_zlabel(\"Lambda (µm)\")\n",
    "fig2.colorbar(p2, ax=ax2, label=\"A_eff\")\n",
    "ax2.set_title(\"A_eff\")\n",
    "\n",
    "plt.show()"
   ]
  },
  {
   "cell_type": "code",
   "execution_count": 7,
   "id": "9d48b097",
   "metadata": {},
   "outputs": [
    {
     "name": "stdout",
     "output_type": "stream",
     "text": [
      "Voy a probar con 50 Lp entre 0.72 y 0.89 µm\n"
     ]
    }
   ],
   "source": [
    "# rangos en µm\n",
    "rango_p = (0.720, 0.890)   # bomba\n",
    "rango_s = (1.530, 1.570)   # señal\n",
    "rango_i = (0.500, 0.680)   # idler\n",
    "\n",
    "# todas las lambdas de bombeo dentro del rango\n",
    "lambdas_p = df[\"lambda\"].unique()\n",
    "lambdas_p = sorted([lp for lp in lambdas_p if rango_p[0] <= lp <= rango_p[1]])\n",
    "\n",
    "print(f\"Voy a probar con {len(lambdas_p)} Lp entre {lambdas_p[0]} y {lambdas_p[-1]} µm\")"
   ]
  },
  {
   "cell_type": "code",
   "execution_count": 8,
   "id": "9909efd4",
   "metadata": {},
   "outputs": [
    {
     "name": "stdout",
     "output_type": "stream",
     "text": [
      "=== Tabla phase matching ===\n",
      "Empty DataFrame\n",
      "Columns: []\n",
      "Index: []\n"
     ]
    }
   ],
   "source": [
    "resultados = []\n",
    "\n",
    "df_filtro = df[(df[\"i\"] == 1) & (df[\"j\"] == 1)].sort_values(\"lambda\")\n",
    "f_interp = interp1d(df_filtro[\"lambda\"], df_filtro[\"n_eff\"],\n",
    "                    kind=\"linear\", fill_value=\"extrapolate\")\n",
    "\n",
    "# barrido\n",
    "for lp in lambdas_p:\n",
    "    for ls in np.linspace(rango_s[0], rango_s[1], 500):\n",
    "        if (1/lp - 1/ls) <= 0:\n",
    "            continue\n",
    "        li = 1 / (1/lp - 1/ls)\n",
    "        if rango_i[0] <= li <= rango_i[1]:\n",
    "            neff_s = float(f_interp(ls))\n",
    "            neff_i = float(f_interp(li))\n",
    "            resultados.append({\n",
    "                \"lambda_p (µm)\": lp,\n",
    "                \"lambda_s (µm)\": ls,\n",
    "                \"lambda_i (µm)\": li,\n",
    "                \"n_eff_s\": neff_s,\n",
    "                \"n_eff_i\": neff_i\n",
    "            })\n",
    "\n",
    "tabla = pd.DataFrame(resultados)\n",
    "print(\"=== Tabla phase matching ===\")\n",
    "print(tabla)"
   ]
  },
  {
   "cell_type": "code",
   "execution_count": 25,
   "id": "8256b80d",
   "metadata": {},
   "outputs": [],
   "source": [
    "def ajustar_neff_vs_lambda(df, j_sel, k_sel, grado=3):\n",
    "    df_geom = df[(df[\"j\"]==j_sel) & (df[\"k\"]==k_sel)].sort_values(\"lambda\")\n",
    "    if len(df_geom) <= grado:\n",
    "        raise ValueError(\"No hay suficientes puntos para ajuste polinomial\")\n",
    "\n",
    "    x = df_geom[\"lambda\"].values\n",
    "    y = df_geom[\"n_eff\"].values\n",
    "\n",
    "    coef = np.polyfit(x, y, grado)\n",
    "    p = np.poly1d(coef)\n",
    "\n",
    "    x_new = np.linspace(x.min(), x.max(), 200)\n",
    "    plt.figure(figsize=(8,5))\n",
    "    plt.scatter(x, y, label=\"Datos\", color=\"blue\")\n",
    "    plt.plot(x_new, p(x_new), label=f\"Ajuste polinomial grado {grado}\", color=\"red\")\n",
    "    plt.xlabel(\"Lambda (µm)\")\n",
    "    plt.ylabel(\"n_eff\")\n",
    "    plt.title(f\"Ajuste n_eff(λ) para (j={j_sel}, k={k_sel})\")\n",
    "    plt.legend()\n",
    "    plt.show()\n",
    "\n",
    "    return p"
   ]
  },
  {
   "cell_type": "code",
   "execution_count": 15,
   "id": "3ae14a97",
   "metadata": {},
   "outputs": [
    {
     "name": "stdout",
     "output_type": "stream",
     "text": [
      "Rango de λ en el dataset: 0.72 – 0.89\n",
      "Número de λ únicos: 50\n"
     ]
    }
   ],
   "source": [
    "print(\"Rango de λ en el dataset:\", df[\"lambda\"].min(), \"–\", df[\"lambda\"].max())\n",
    "print(\"Número de λ únicos:\", len(df[\"lambda\"].unique()))"
   ]
  },
  {
   "cell_type": "code",
   "execution_count": 31,
   "id": "6a805410",
   "metadata": {},
   "outputs": [
    {
     "data": {
      "text/plain": [
       "'print(df_geom[[\"lambda\",\"n_eff\"]])\\nprint(len(df_geom[[\"lambda\",\"n_eff\"]]))'"
      ]
     },
     "execution_count": 31,
     "metadata": {},
     "output_type": "execute_result"
    }
   ],
   "source": [
    "df_geom = df[(df[\"j\"]==3) & (df[\"k\"]==4)].sort_values(\"lambda\")\n",
    "\n",
    "'''print(df_geom[[\"lambda\",\"n_eff\"]])\n",
    "print(len(df_geom[[\"lambda\",\"n_eff\"]]))'''"
   ]
  },
  {
   "cell_type": "code",
   "execution_count": 41,
   "id": "51c33df8",
   "metadata": {},
   "outputs": [
    {
     "name": "stdout",
     "output_type": "stream",
     "text": [
      "Geometría seleccionada: j=10, k=4\n",
      "Altura = 0.4500 µm\n",
      "Ancho  = 0.8750 µm\n"
     ]
    }
   ],
   "source": [
    "j_sel, k_sel = 10, 4\n",
    "\n",
    "df_geom = df[(df[\"j\"]==j_sel) & (df[\"k\"]==k_sel)]\n",
    "\n",
    "alto = df_geom[\"Alt_Si3N4\"].iloc[0]\n",
    "ancho = df_geom[\"Anc_Si3N4\"].iloc[0]\n",
    "\n",
    "print(f\"Geometría seleccionada: j={j_sel}, k={k_sel}\")\n",
    "print(f\"Altura = {alto:.4f} µm\")\n",
    "print(f\"Ancho  = {ancho:.4f} µm\")"
   ]
  },
  {
   "cell_type": "code",
   "execution_count": 42,
   "id": "d63444ad",
   "metadata": {},
   "outputs": [
    {
     "name": "stdout",
     "output_type": "stream",
     "text": [
      "n_eff(λ) ≈ +16.9909·λ^30 -54.6476·λ^29 +36.6047·λ^28 +30.2808·λ^27 -10.6620·λ^26 -26.7933·λ^25 -13.8040·λ^24 +6.6907·λ^23 +16.5848·λ^22 +12.1406·λ^21 +0.5907·λ^20 -8.5633·λ^19 -10.1398·λ^18 -4.9972·λ^17 +2.1304·λ^16 +6.3982·λ^15 +5.7676·λ^14 +1.5743·λ^13 -2.8162·λ^12 -4.4694·λ^11 -2.6852·λ^10 +0.7626·λ^9 +3.0335·λ^8 +2.3909·λ^7 -0.3341·λ^6 -2.3728·λ^5 -1.4510·λ^4 +1.3658·λ^3 +1.7624·λ^2 -2.1382·λ +2.5935\n"
     ]
    },
    {
     "name": "stderr",
     "output_type": "stream",
     "text": [
      "C:\\Users\\david\\AppData\\Local\\Temp\\ipykernel_18544\\4220940059.py:9: RankWarning: Polyfit may be poorly conditioned\n",
      "  coef = np.polyfit(x, y, grado)\n"
     ]
    }
   ],
   "source": [
    "p = ajustar_neff_vs_lambda(df, j_sel, k_sel, grado=30)\n",
    "\n",
    "def polinomio_a_str(p):\n",
    "    terms = []\n",
    "    for i, coef in enumerate(p.coefficients):\n",
    "        exp = p.order - i\n",
    "        if exp == 0:\n",
    "            terms.append(f\"{coef:+.4f}\")\n",
    "        elif exp == 1:\n",
    "            terms.append(f\"{coef:+.4f}·λ\")\n",
    "        else:\n",
    "            terms.append(f\"{coef:+.4f}·λ^{exp}\")\n",
    "    return \" \".join(terms)\n",
    "\n",
    "print(\"n_eff(λ) ≈\", polinomio_a_str(p))"
   ]
  },
  {
   "cell_type": "code",
   "execution_count": null,
   "id": "c156db97",
   "metadata": {},
   "outputs": [],
   "source": []
  }
 ],
 "metadata": {
  "kernelspec": {
   "display_name": "Python 3",
   "language": "python",
   "name": "python3"
  },
  "language_info": {
   "codemirror_mode": {
    "name": "ipython",
    "version": 3
   },
   "file_extension": ".py",
   "mimetype": "text/x-python",
   "name": "python",
   "nbconvert_exporter": "python",
   "pygments_lexer": "ipython3",
   "version": "3.12.5"
  }
 },
 "nbformat": 4,
 "nbformat_minor": 5
}
