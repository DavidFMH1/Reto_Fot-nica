{
 "cells": [
  {
   "cell_type": "code",
   "execution_count": 1,
   "id": "d6b57a5f",
   "metadata": {},
   "outputs": [],
   "source": [
    "%matplotlib qt\n",
    "\n",
    "import h5py\n",
    "import numpy as np\n",
    "import matplotlib.pyplot as plt\n",
    "import pandas as pd\n",
    "import random\n",
    "\n",
    "from matplotlib.widgets import Slider\n",
    "from mpl_toolkits.mplot3d import Axes3D\n",
    "from scipy.interpolate import interp1d"
   ]
  },
  {
   "cell_type": "code",
   "execution_count": 2,
   "id": "63d8e05c",
   "metadata": {},
   "outputs": [],
   "source": [
    "LABELS = [\"Alt_Si3N4\", \"Anc_Si3N4\", \"lambda\", \"n_eff\", \"A_eff\"]\n",
    "\n",
    "# --- función para normalizar dataset ---\n",
    "def load_and_normalize(fname):\n",
    "    with h5py.File(fname, \"r\") as f:\n",
    "        A = f[\"/A\"][...]\n",
    "    axis5 = next((ax for ax, s in enumerate(A.shape) if s == 5), None)\n",
    "    if axis5 is None:\n",
    "        raise ValueError(f\"No encontré eje de tamaño 5 en {fname}\")\n",
    "    if axis5 != A.ndim - 1:\n",
    "        A = np.moveaxis(A, axis5, -1)\n",
    "    return A"
   ]
  },
  {
   "cell_type": "code",
   "execution_count": 3,
   "id": "ab4c47d3",
   "metadata": {},
   "outputs": [
    {
     "name": "stdout",
     "output_type": "stream",
     "text": [
      "Check Alt: 0.4 vs 0.55, Check Anc: 0.875 vs 0.875\n",
      "Check Alt: 0.55 vs 0.7, Check Anc: 1.25 vs 1.25\n",
      "Check Alt: 0.7 vs 0.85, Check Anc: 1.625 vs 1.625\n",
      "Check Alt: 0.85 vs 0.925, Check Anc: 2.0 vs 1.625\n",
      "⚠️ Advertencia: los bordes no coinciden perfectamente\n"
     ]
    }
   ],
   "source": [
    "# --- cargar los 4 datasets ---\n",
    "archivos = [\n",
    "    \"Datos_reto/Datos1.h5\",\n",
    "    \"Datos_reto/Datos2.h5\",\n",
    "    \"Datos_reto/Datos3.h5\",\n",
    "    \"Datos_reto/Datos4.h5\",\n",
    "    \"Datos_reto/Datos5.h5\"\n",
    "]\n",
    "datasets = [load_and_normalize(fname) for fname in archivos]\n",
    "\n",
    "# --- validación de bordes ---\n",
    "def check_borders(d1, d2):\n",
    "    alt1_end = np.round(d1[-1,0,0,0],6)\n",
    "    alt2_start = np.round(d2[0,0,0,0],6)\n",
    "    anc1_end = np.round(d1[0,-1,0,1],6)\n",
    "    anc2_start = np.round(d2[0,0,0,1],6)\n",
    "    print(f\"Check Alt: {alt1_end} vs {alt2_start}, Check Anc: {anc1_end} vs {anc2_start}\")\n",
    "    if not np.isclose(alt1_end, alt2_start) and not np.isclose(anc1_end, anc2_start):\n",
    "        print(\"⚠️ Advertencia: los bordes no coinciden perfectamente\")\n",
    "\n",
    "for i in range(len(datasets)-1):\n",
    "    check_borders(datasets[i], datasets[i+1])\n",
    "\n",
    "# --- unir todos en un bloque continuo ---\n",
    "DatosU = np.block([\n",
    "    [datasets[0]],\n",
    "    [datasets[1]],\n",
    "    [datasets[2]],\n",
    "    [datasets[3]],\n",
    "    [datasets[4]]\n",
    "])"
   ]
  },
  {
   "cell_type": "code",
   "execution_count": 4,
   "id": "1d6f8fbf",
   "metadata": {},
   "outputs": [
    {
     "name": "stdout",
     "output_type": "stream",
     "text": [
      "✅ Dataset unificado guardado en DatosU.h5, shape: (50, 10, 40, 5)\n"
     ]
    }
   ],
   "source": [
    "with h5py.File(\"Datos_reto/DatosU.h5\", \"w\") as f_out:\n",
    "    f_out.create_dataset(\"A\", data=DatosU)\n",
    "\n",
    "print(\"✅ Dataset unificado guardado en DatosU.h5, shape:\", DatosU.shape)"
   ]
  },
  {
   "cell_type": "code",
   "execution_count": 5,
   "id": "f74d625a",
   "metadata": {},
   "outputs": [
    {
     "name": "stdout",
     "output_type": "stream",
     "text": [
      "        i   j   k  Alt_Si3N4  Anc_Si3N4  lambda     n_eff         A_eff  \\\n",
      "0       1   1   1   0.400000        0.5    0.72  1.801107  1.766958e-13   \n",
      "1       1   1   2   0.416667        0.5    0.72  1.807751  1.808637e-13   \n",
      "2       1   1   3   0.433333        0.5    0.72  1.813994  1.852233e-13   \n",
      "3       1   1   4   0.450000        0.5    0.72  1.819495  1.894631e-13   \n",
      "4       1   1   5   0.466667        0.5    0.72  1.826820  1.984774e-13   \n",
      "...    ..  ..  ..        ...        ...     ...       ...           ...   \n",
      "19995  50  10  36   0.925000        2.0    0.89  1.966443  1.032798e-12   \n",
      "19996  50  10  37   0.943750        2.0    0.89  1.967794  1.049798e-12   \n",
      "19997  50  10  38   0.962500        2.0    0.89  1.969078  1.066814e-12   \n",
      "19998  50  10  39   0.981250        2.0    0.89  1.970300  1.083843e-12   \n",
      "19999  50  10  40   1.000000        2.0    0.89  1.971440  1.100531e-12   \n",
      "\n",
      "       lambda_nm  \n",
      "0          720.0  \n",
      "1          720.0  \n",
      "2          720.0  \n",
      "3          720.0  \n",
      "4          720.0  \n",
      "...          ...  \n",
      "19995      890.0  \n",
      "19996      890.0  \n",
      "19997      890.0  \n",
      "19998      890.0  \n",
      "19999      890.0  \n",
      "\n",
      "[20000 rows x 9 columns]\n"
     ]
    }
   ],
   "source": [
    "def to_dataframe(arr):\n",
    "    nA, nB, nC, _ = arr.shape\n",
    "    rows = []\n",
    "    for ii in range(nA):\n",
    "        for jj in range(nB):\n",
    "            for kk in range(nC):\n",
    "                rec = {\"i\": ii+1, \"j\": jj+1, \"k\": kk+1}\n",
    "                for p, name in enumerate(LABELS):\n",
    "                    rec[name] = arr[ii, jj, kk, p]\n",
    "                rows.append(rec)\n",
    "    return pd.DataFrame(rows, columns=[\"i\",\"j\",\"k\"]+LABELS)\n",
    "\n",
    "df = to_dataframe(DatosU)\n",
    "df[\"lambda_nm\"] = df[\"lambda\"] * 1000  # mantener referencia en nm\n",
    "print(df)"
   ]
  },
  {
   "cell_type": "code",
   "execution_count": 8,
   "id": "8d7e8190",
   "metadata": {},
   "outputs": [],
   "source": [
    "fig1 = plt.figure(figsize=(10,8))\n",
    "ax1 = fig1.add_subplot(111, projection='3d')\n",
    "p1 = ax1.scatter(df[\"Alt_Si3N4\"], df[\"Anc_Si3N4\"], df[\"lambda\"],\n",
    "                 c=df[\"n_eff\"], cmap=\"viridis\", s=10)\n",
    "ax1.set_xlabel(\"Altura (µm)\")\n",
    "ax1.set_ylabel(\"Ancho (µm)\")\n",
    "ax1.set_zlabel(\"Lambda (µm)\")\n",
    "fig1.colorbar(p1, ax=ax1, label=\"n_eff\")\n",
    "ax1.set_title(\"n_eff\")\n",
    "\n",
    "fig2 = plt.figure(figsize=(10,8))\n",
    "ax2 = fig2.add_subplot(111, projection='3d')\n",
    "p2 = ax2.scatter(df[\"Alt_Si3N4\"], df[\"Anc_Si3N4\"], df[\"lambda\"],\n",
    "                 c=df[\"A_eff\"], cmap=\"plasma\", s=10)\n",
    "ax2.set_xlabel(\"Altura (µm)\")\n",
    "ax2.set_ylabel(\"Ancho (µm)\")\n",
    "ax2.set_zlabel(\"Lambda (µm)\")\n",
    "fig2.colorbar(p2, ax=ax2, label=\"A_eff\")\n",
    "ax2.set_title(\"A_eff\")\n",
    "\n",
    "plt.show()"
   ]
  },
  {
   "cell_type": "code",
   "execution_count": 7,
   "id": "9d48b097",
   "metadata": {},
   "outputs": [
    {
     "name": "stdout",
     "output_type": "stream",
     "text": [
      "Voy a probar con 50 Lp entre 0.72 y 0.89 µm\n"
     ]
    }
   ],
   "source": [
    "# rangos en µm\n",
    "rango_p = (0.720, 0.890)   # bomba\n",
    "rango_s = (1.530, 1.570)   # señal\n",
    "rango_i = (0.500, 0.680)   # idler\n",
    "\n",
    "# todas las lambdas de bombeo dentro del rango\n",
    "lambdas_p = df[\"lambda\"].unique()\n",
    "lambdas_p = sorted([lp for lp in lambdas_p if rango_p[0] <= lp <= rango_p[1]])\n",
    "\n",
    "print(f\"Voy a probar con {len(lambdas_p)} Lp entre {lambdas_p[0]} y {lambdas_p[-1]} µm\")"
   ]
  },
  {
   "cell_type": "code",
   "execution_count": 8,
   "id": "9909efd4",
   "metadata": {},
   "outputs": [
    {
     "name": "stdout",
     "output_type": "stream",
     "text": [
      "=== Tabla phase matching ===\n",
      "Empty DataFrame\n",
      "Columns: []\n",
      "Index: []\n"
     ]
    }
   ],
   "source": [
    "resultados = []\n",
    "\n",
    "df_filtro = df[(df[\"i\"] == 1) & (df[\"j\"] == 1)].sort_values(\"lambda\")\n",
    "f_interp = interp1d(df_filtro[\"lambda\"], df_filtro[\"n_eff\"],\n",
    "                    kind=\"linear\", fill_value=\"extrapolate\")\n",
    "\n",
    "# barrido\n",
    "for lp in lambdas_p:\n",
    "    for ls in np.linspace(rango_s[0], rango_s[1], 500):\n",
    "        if (1/lp - 1/ls) <= 0:\n",
    "            continue\n",
    "        li = 1 / (1/lp - 1/ls)\n",
    "        if rango_i[0] <= li <= rango_i[1]:\n",
    "            neff_s = float(f_interp(ls))\n",
    "            neff_i = float(f_interp(li))\n",
    "            resultados.append({\n",
    "                \"lambda_p (µm)\": lp,\n",
    "                \"lambda_s (µm)\": ls,\n",
    "                \"lambda_i (µm)\": li,\n",
    "                \"n_eff_s\": neff_s,\n",
    "                \"n_eff_i\": neff_i\n",
    "            })\n",
    "\n",
    "tabla = pd.DataFrame(resultados)\n",
    "print(\"=== Tabla phase matching ===\")\n",
    "print(tabla)"
   ]
  },
  {
   "cell_type": "code",
   "execution_count": null,
   "id": "8256b80d",
   "metadata": {},
   "outputs": [],
   "source": []
  }
 ],
 "metadata": {
  "kernelspec": {
   "display_name": "Python 3",
   "language": "python",
   "name": "python3"
  },
  "language_info": {
   "codemirror_mode": {
    "name": "ipython",
    "version": 3
   },
   "file_extension": ".py",
   "mimetype": "text/x-python",
   "name": "python",
   "nbconvert_exporter": "python",
   "pygments_lexer": "ipython3",
   "version": "3.12.5"
  }
 },
 "nbformat": 4,
 "nbformat_minor": 5
}
