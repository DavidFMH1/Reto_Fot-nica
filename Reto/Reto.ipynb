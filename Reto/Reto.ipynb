{
 "cells": [
  {
   "cell_type": "code",
   "execution_count": 1,
   "id": "d6b57a5f",
   "metadata": {},
   "outputs": [],
   "source": [
    "import h5py\n",
    "import numpy as np\n",
    "import matplotlib.pyplot as plt\n",
    "import pandas as pd\n",
    "\n",
    "from matplotlib.widgets import Slider"
   ]
  },
  {
   "cell_type": "code",
   "execution_count": 2,
   "id": "44650da9",
   "metadata": {},
   "outputs": [
    {
     "name": "stdout",
     "output_type": "stream",
     "text": [
      "shape bruto: (5, 7, 7, 7)\n",
      "shape normalizado: (7, 7, 7, 5)\n",
      "Alt_Si3N4  = 0.4\n",
      "Anc_Si3N4  = 0.5\n",
      "lambda     = 0.72\n",
      "n_eff      = 1.80111\n",
      "A_eff      = 1.76696e-13\n"
     ]
    }
   ],
   "source": [
    "LABELS = [\"Alt_Si3N4\", \"Anc_Si3N4\", \"lambda\", \"n_eff\", \"A_eff\"]\n",
    "\n",
    "with h5py.File(\"Datos.h5\", \"r\") as f:\n",
    "    A = f[\"/A\"][...]           # p.ej. (5, 1, 1, 1)\n",
    "    print(\"shape bruto:\", A.shape)\n",
    "\n",
    "# --- normaliza: lleva el eje de tamaño 5 al último ---\n",
    "axis5 = next((ax for ax, s in enumerate(A.shape) if s == 5), None)\n",
    "if axis5 is None:\n",
    "    raise ValueError(\"No encontré un eje de tamaño 5 en el dataset\")\n",
    "if axis5 != A.ndim - 1:\n",
    "    A = np.moveaxis(A, axis5, -1)\n",
    "\n",
    "print(\"shape normalizado:\", A.shape)   # ahora debe ser (n_alt, n_anc, n_lamb, 5)\n",
    "\n",
    "def print_voxel(arr, i, j, k):\n",
    "    ii, jj, kk = i-1, j-1, k-1     # Lumerical es 1-based\n",
    "    vals = arr[ii, jj, kk, :]      # vector de 5\n",
    "    for name, v in zip(LABELS, vals):\n",
    "        print(f\"{name:10s} = {v:.6g}\")\n",
    "\n",
    "# ejemplo (con tus números actuales seguramente es 1,1,1)\n",
    "print_voxel(A, 1, 1, 1)"
   ]
  },
  {
   "cell_type": "code",
   "execution_count": 3,
   "id": "a393092d",
   "metadata": {},
   "outputs": [
    {
     "name": "stdout",
     "output_type": "stream",
     "text": [
      "     i  j  k  Alt_Si3N4  Anc_Si3N4  lambda     n_eff         A_eff\n",
      "0    1  1  1   0.400000        0.5    0.72  1.801107  1.766958e-13\n",
      "1    1  1  2   0.433333        0.5    0.72  1.813994  1.852233e-13\n",
      "2    1  1  3   0.466667        0.5    0.72  1.826820  1.984774e-13\n",
      "3    1  1  4   0.500000        0.5    0.72  1.841135  2.036435e-13\n",
      "4    1  1  5   0.533333        0.5    0.72  1.852436  2.087033e-13\n",
      "..  .. .. ..        ...        ...     ...       ...           ...\n",
      "338  7  7  3   0.466667        1.0    0.89  1.852366  3.479552e-13\n",
      "339  7  7  4   0.500000        1.0    0.89  1.863912  3.624442e-13\n",
      "340  7  7  5   0.533333        1.0    0.89  1.873923  3.772712e-13\n",
      "341  7  7  6   0.566667        1.0    0.89  1.882529  3.922862e-13\n",
      "342  7  7  7   0.600000        1.0    0.89  1.890089  4.075868e-13\n",
      "\n",
      "[343 rows x 8 columns]\n"
     ]
    }
   ],
   "source": [
    "def to_dataframe(arr):\n",
    "    nA, nB, nC, _ = arr.shape\n",
    "    rows = []\n",
    "    for ii in range(nA):\n",
    "        for jj in range(nB):\n",
    "            for kk in range(nC):\n",
    "                rec = {\"i\": ii+1, \"j\": jj+1, \"k\": kk+1}\n",
    "                for p, name in enumerate(LABELS):\n",
    "                    rec[name] = arr[ii, jj, kk, p]\n",
    "                rows.append(rec)\n",
    "    return pd.DataFrame(rows, columns=[\"i\",\"j\",\"k\"]+LABELS)\n",
    "\n",
    "df = to_dataframe(A)\n",
    "print(df)"
   ]
  },
  {
   "cell_type": "code",
   "execution_count": null,
   "id": "6b779685",
   "metadata": {},
   "outputs": [],
   "source": []
  }
 ],
 "metadata": {
  "kernelspec": {
   "display_name": "Python 3",
   "language": "python",
   "name": "python3"
  },
  "language_info": {
   "codemirror_mode": {
    "name": "ipython",
    "version": 3
   },
   "file_extension": ".py",
   "mimetype": "text/x-python",
   "name": "python",
   "nbconvert_exporter": "python",
   "pygments_lexer": "ipython3",
   "version": "3.12.5"
  }
 },
 "nbformat": 4,
 "nbformat_minor": 5
}
